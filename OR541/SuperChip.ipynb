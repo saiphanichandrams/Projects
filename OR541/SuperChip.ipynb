{
 "cells": [
  {
   "attachments": {},
   "cell_type": "markdown",
   "id": "71b7227b",
   "metadata": {},
   "source": [
    "SuperChip Optimization Model\n",
    "\n",
    "We will start by importing the necceesry libraries."
   ]
  },
  {
   "cell_type": "code",
   "execution_count": 1,
   "id": "a3145bb9-e2ff-4bf3-9c1d-79b491cfc685",
   "metadata": {},
   "outputs": [
    {
     "name": "stdout",
     "output_type": "stream",
     "text": [
      "Set parameter Username\n",
      "Academic license - for non-commercial use only - expires 2024-03-16\n"
     ]
    }
   ],
   "source": [
    "import gurobipy as gp\n",
    "import pandas as pd\n",
    "\n",
    "m = gp.Model('Super chip Optimization')\n",
    "\n",
    "m.modelsense = gp.GRB.MINIMIZE\n",
    "m.update()\n"
   ]
  },
  {
   "attachments": {},
   "cell_type": "markdown",
   "id": "87205227",
   "metadata": {},
   "source": [
    "The next step is creating dataframes from the excel file to enable creation of dictionaries"
   ]
  },
  {
   "cell_type": "code",
   "execution_count": 2,
   "id": "b1a20fec-7c0e-47ad-bfba-890ec1d4d5bb",
   "metadata": {},
   "outputs": [],
   "source": [
    "# Load data from excel file\n",
    "df = pd.read_excel('SuperChipData.xlsx', sheet_name='Production Costs')\n",
    "df_ship = pd.read_excel('SuperChipData.xlsx', sheet_name='Shipping Costs')\n",
    "df_prod_cap = pd.read_excel('SuperChipData.xlsx', sheet_name='Production Capacity')\n",
    "df_demand = pd.read_excel('SuperChipData.xlsx', sheet_name='Sales Region Demand')\n"
   ]
  },
  {
   "cell_type": "code",
   "execution_count": 3,
   "id": "652dd744-6ac4-4797-bf8f-286c39ad7883",
   "metadata": {},
   "outputs": [],
   "source": [
    "# Creating list of facilities, chips and regions\n",
    "facilities = df['Facility'].unique()\n",
    "chips = df['Computer Chip'].unique()\n",
    "regions = df_ship['Sales Region'].unique()"
   ]
  },
  {
   "attachments": {},
   "cell_type": "markdown",
   "id": "9037c698",
   "metadata": {},
   "source": [
    "The next cell is the creation of dictionaries for the formulation of the problen"
   ]
  },
  {
   "cell_type": "code",
   "execution_count": 12,
   "id": "b8b90984-34cc-4a39-ac14-ae43ac61f5cf",
   "metadata": {},
   "outputs": [],
   "source": [
    "# Creating production costs dictionary\n",
    "prod_costs = {(row['Computer Chip'], row['Facility']): row['Production Cost ($ per chip)'] for index, row in df.iterrows()}\n",
    "\n",
    "# Creating shipping costs dictionary\n",
    "shipping_costs = {(row['Computer Chip'], row['Facility'], row['Sales Region']): row['Shipping Cost ($ per chip)'] for index, row in df_ship.iterrows()}\n",
    "\n",
    "# creating production capacity dictionary\n",
    "prod_cap = {(row['Facility']): row['Computer Chip Production Capacity (thousands per year)']*1000 for index, row in df_prod_cap.iterrows()}\n",
    "\n",
    "# creating demand dictionary\n",
    "demand = {(row['Computer Chip'], row['Sales Region']): row['Yearly Demand (thousands)']*1000 for index, row in df_demand.iterrows()}\n"
   ]
  },
  {
   "attachments": {},
   "cell_type": "markdown",
   "id": "f02c028f",
   "metadata": {},
   "source": [
    "This dictionary will be used for Question 3"
   ]
  },
  {
   "cell_type": "code",
   "execution_count": 5,
   "id": "4c423452-06cd-4687-9455-c4ef3c6329bf",
   "metadata": {},
   "outputs": [],
   "source": [
    "# creating a dictionary for a 10% increase in demand\n",
    "new_demand = {}\n",
    "for key, value in demand.items():\n",
    "    new_demand[key] = value * 1.1\n"
   ]
  },
  {
   "attachments": {},
   "cell_type": "markdown",
   "id": "cce086cd",
   "metadata": {},
   "source": [
    "Two decision variable are needed for production and shiping\n",
    "x_ij represent chip i manufactured in facility j\n",
    "y_ijk represent chip i shipped from facility j to region k"
   ]
  },
  {
   "cell_type": "code",
   "execution_count": 30,
   "id": "2e5c8c17-50f6-420b-a01c-0694f748d025",
   "metadata": {},
   "outputs": [],
   "source": [
    "# Creating decision variable x_ij\n",
    "x = {}\n",
    "for i in chips:\n",
    "    for j in facilities:\n",
    "        x[i, j] = m.addVar(lb = 0, vtype=gp.GRB.INTEGER, name=f'x{i}_{j}')\n",
    "\n",
    "        \n",
    "# Creating decision variable y_ijk\n",
    "y = {}\n",
    "for i in chips:\n",
    "    for j in facilities:\n",
    "        for k in regions:\n",
    "            y[i, j, k] = m.addVar(lb = 0, vtype=gp.GRB.INTEGER, name=f'y{i}_{j}_{k}')\n",
    "            \n",
    "            \n",
    "m.update() "
   ]
  },
  {
   "attachments": {},
   "cell_type": "markdown",
   "id": "08da72d4",
   "metadata": {},
   "source": [
    "The objective function is the addition of production cost and shipping cost to minimize them.\n",
    "we didn't want to minimize them seperately."
   ]
  },
  {
   "cell_type": "code",
   "execution_count": 31,
   "id": "437888e1-0fc0-4e57-88a3-18eabede1103",
   "metadata": {},
   "outputs": [],
   "source": [
    "# Set objective function\n",
    "production_cost = gp.quicksum(prod_costs[i, j] * x[i, j] for i in chips for j in facilities)\n",
    "shipping_cost = gp.quicksum(shipping_costs[i, j, k] * y[i, j, k] for i in chips for j in facilities for k in regions)\n",
    "m.setObjective(production_cost + shipping_cost, gp.GRB.MINIMIZE)\n",
    "m.update()"
   ]
  },
  {
   "cell_type": "code",
   "execution_count": 32,
   "id": "f1bf4733-1e3c-46e6-a696-d2e2055b2129",
   "metadata": {},
   "outputs": [],
   "source": [
    "# # Set objective function\n",
    "# m.setObjective(gp.quicksum(prod_costs[i, j] * x[i, j] for i in chips for j in facilities) +\n",
    "#                gp.quicksum(shipping_costs[i, j, k] * y[i, j, k] for i in chips for j in facilities for k in regions),\n",
    "#                gp.GRB.MINIMIZE)\n",
    "# m.update() "
   ]
  },
  {
   "attachments": {},
   "cell_type": "markdown",
   "id": "2fd8b940",
   "metadata": {},
   "source": [
    "The three contraints represent ensuring the chips in each factory don't exceed the factory capacity, the chips produced equal or exceed the demand of chips, the last contraint ensure the chips shipped is less than the chips produced."
   ]
  },
  {
   "cell_type": "code",
   "execution_count": 33,
   "id": "db04d93d-a3cd-4c25-8ea8-cef600eace6b",
   "metadata": {},
   "outputs": [],
   "source": [
    "# production capacity constriant\n",
    "c = {}\n",
    "for j in facilities:\n",
    "    c[j] = m.addConstr(gp.quicksum(x[i, j] for i in chips) <= prod_cap[j])\n",
    "\n",
    "        \n",
    "# demand constraint\n",
    "demandConstraint={}\n",
    "for i in chips:\n",
    "    for k in regions:\n",
    "        demandConstraint=m.addConstr(gp.quicksum(y[i, j, k] for j in facilities) >= demand[i, k])\n",
    "\n",
    "    \n",
    "#ensuring the chip is produced\n",
    "shippingConstraint={}\n",
    "for i in chips:\n",
    "    for j in facilities:\n",
    "        shippingConstraint=m.addConstr(gp.quicksum(y[i, j, k] for k in regions) - x[i, j] <= 0)\n",
    "m.update()"
   ]
  },
  {
   "attachments": {},
   "cell_type": "markdown",
   "id": "618ad2bd",
   "metadata": {},
   "source": [
    "We optimize the LP"
   ]
  },
  {
   "cell_type": "code",
   "execution_count": 34,
   "id": "b0f68ca6-45c5-42ea-b6ab-328543cc1ee8",
   "metadata": {},
   "outputs": [
    {
     "name": "stdout",
     "output_type": "stream",
     "text": [
      "Gurobi Optimizer version 10.0.1 build v10.0.1rc0 (mac64[x86])\n",
      "\n",
      "CPU model: Intel(R) Core(TM) i5-8210Y CPU @ 1.60GHz\n",
      "Thread count: 2 physical cores, 4 logical processors, using up to 4 threads\n",
      "\n",
      "Optimize a model with 4225 rows, 14400 columns and 36000 nonzeros\n",
      "Model fingerprint: 0xe284316f\n",
      "Variable types: 10800 continuous, 3600 integer (0 binary)\n",
      "Coefficient statistics:\n",
      "  Matrix range     [1e+00, 1e+00]\n",
      "  Objective range  [1e+00, 7e+01]\n",
      "  Bounds range     [0e+00, 0e+00]\n",
      "  RHS range        [1e+01, 3e+05]\n",
      "\n",
      "MIP start from previous solve produced solution with objective 4.90834e+07 (0.37s)\n",
      "Loaded MIP start from previous solve with objective 4.90834e+07\n",
      "\n",
      "Presolve removed 3436 rows and 10860 columns\n",
      "Presolve time: 0.26s\n",
      "Presolved: 789 rows, 3540 columns, 7080 nonzeros\n",
      "Variable types: 3540 continuous, 0 integer (0 binary)\n",
      "\n",
      "Root relaxation: cutoff, 1211 iterations, 0.01 seconds (0.00 work units)\n",
      "\n",
      "    Nodes    |    Current Node    |     Objective Bounds      |     Work\n",
      " Expl Unexpl |  Obj  Depth IntInf | Incumbent    BestBd   Gap | It/Node Time\n",
      "\n",
      "     0     0     cutoff    0      4.9083e+07 4.9083e+07  0.00%     -    0s\n",
      "\n",
      "Explored 1 nodes (1211 simplex iterations) in 0.86 seconds (0.24 work units)\n",
      "Thread count was 4 (of 4 available processors)\n",
      "\n",
      "Solution count 1: 4.90834e+07 \n",
      "\n",
      "Optimal solution found (tolerance 1.00e-04)\n",
      "Best objective 4.908343040000e+07, best bound 4.908343040000e+07, gap 0.0000%\n",
      "Warning: variables 0 and 3600 have the same name \"x1_Alexandria\"\n",
      "Warning: to let Gurobi read it back, use rlp format\n",
      "Optimal Total Cost =  49083430.39999999\n",
      "Optimal Production Cost =  47309680.4\n",
      "Optimal Shipping Cost =  1773750.0000000007\n"
     ]
    }
   ],
   "source": [
    "m.optimize()\n",
    "m.write('Super.lp')\n",
    "m.update()\n",
    "\n",
    "print (\"Optimal Total Cost = \", m.objVal)\n",
    "\n",
    "# Printing production and shipping costs\n",
    "print(\"Optimal Production Cost = \", production_cost.getValue())\n",
    "print(\"Optimal Shipping Cost = \", shipping_cost.getValue())\n"
   ]
  },
  {
   "attachments": {},
   "cell_type": "markdown",
   "id": "1ee7896c",
   "metadata": {},
   "source": [
    "This prints the shadow prices for the production capacity contraints(SWITCH vtype to continous)"
   ]
  },
  {
   "cell_type": "code",
   "execution_count": null,
   "id": "a74c3fd1",
   "metadata": {},
   "outputs": [],
   "source": [
    "df_production = pd.read_excel('chip.xlsx')\n",
    "# creating a dictionary for our recommended chip_production.\n",
    "quantity = {(row['Chip'], row['Facility']): row['Value'] for index, row in df_production.iterrows()}\n",
    "\n",
    "#Creating a dictionary to store the total production cost for each facility\n",
    "\n",
    "new_cost = {}\n",
    "for j in facilities:\n",
    "    for i in chips:\n",
    "        cost = 0\n",
    "        if (i,j) in prod_costs.keys():\n",
    "            costs = prod_costs[(i,j)]\n",
    "            quat = 0\n",
    "            for key, value in prod_qty.items():\n",
    "                if key[1] == j:\n",
    "                    quat += value\n",
    "        cost_prod = quat * costs\n",
    "        cost += cost_prod\n",
    "        new_cost[j] = cost\n",
    "        \n",
    "for j in facilities:\n",
    "    print(\"........................................................\")\n",
    "    print(f\"The cost of production in {j} facility is {new_cost[j]}\")\n",
    "\n",
    "\n",
    "# Creating a dictionary to store the total production cost for each facility if technology is implemented\n",
    "reduced_cost = {}\n",
    "for j in facilities:\n",
    "    reduced_cost[j] = 0.85 * new_cost[j]\n",
    "\n",
    "max_key = max(reduced_cost, key=reduced_cost.get)\n",
    "print(\"...................................................\")\n",
    "print(f\"We Recommended new technology go to {max_key} facility if using the current policy\")\n",
    "\n",
    "\n",
    "new_total_prod_cost = 0\n",
    "for i,j in quantity:\n",
    "    if (i,j) in quantity.keys():\n",
    "        costs = prod_costs[(i,j)]\n",
    "        cost_prod = quantity[(i,j)] * costs\n",
    "        new_total_prod_cost += cost_prod\n",
    "print(\".............................................\")\n",
    "print(\"The new total Production cost from our recommendation is: \", new_total_prod_cost)\n",
    "\n",
    "# using our recommendation\n",
    "new_new_cost = {}\n",
    "for j in facilities:\n",
    "    for i in chips:\n",
    "        cost = 0\n",
    "        if (i,j) in prod_costs.keys():\n",
    "            costs = prod_costs[(i,j)]\n",
    "            quat = 0\n",
    "            for key, value in quantity.items():\n",
    "                if key[1] == j:\n",
    "                    quat += value\n",
    "        cost_prod = quat * costs\n",
    "        cost += cost_prod\n",
    "        new_new_cost[j] = cost\n",
    "        \n",
    "for j in facilities:\n",
    "    print(\"........................................................\")\n",
    "    print(f\"The cost of production in {j} facility is {new_new_cost[j]}\")\n",
    "\n",
    "\n",
    "# Creating a dictionary to store the total production cost for each facility if technology is implemented\n",
    "new_reduced_cost = {}\n",
    "for j in facilities:\n",
    "    new_reduced_cost[j] = 0.85 * new_new_cost[j]\n",
    "\n",
    "new_max_key = max(new_reduced_cost, key=new_reduced_cost.get)\n",
    "print(\"...................................................\")\n",
    "print(f\"We Recommended new technology go to {new_max_key} facility\")"
   ]
  },
  {
   "cell_type": "code",
   "execution_count": null,
   "id": "1074e085",
   "metadata": {},
   "outputs": [],
   "source": [
    "if m.status == gp.GRB.Status.OPTIMAL:\n",
    "    for j in facilities:\n",
    "        print(f'Shadow Price for Production Capacity Constraint {j} = {c[j].Pi}')\n",
    "else:\n",
    "    print('No feasible solution found.')"
   ]
  },
  {
   "cell_type": "code",
   "execution_count": null,
   "id": "4763595a",
   "metadata": {},
   "outputs": [],
   "source": [
    "if m.status == gp.GRB.Status.OPTIMAL:\n",
    "    for i in chips:\n",
    "        for j in facilities:\n",
    "            if x[i,j].x > 0:\n",
    "                print(f'Number of chip {i} to Produce in {j} Facility: ', x[i, j].x) \n",
    "else:\n",
    "    print('No feasible solution found.')"
   ]
  },
  {
   "cell_type": "code",
   "execution_count": null,
   "id": "41303ad5",
   "metadata": {},
   "outputs": [],
   "source": [
    "if m.status == gp.GRB.Status.OPTIMAL:\n",
    "    for i in chips:\n",
    "        for j in facilities:\n",
    "            for k in regions:\n",
    "                if x[i,j].x > 0:\n",
    "                    print(f'Number of chip {i} shipped from {j} Facility to region {k} is : ', y[i, j, k].x) \n",
    "else:\n",
    "    print('No feasible solution found.')"
   ]
  },
  {
   "cell_type": "code",
   "execution_count": null,
   "id": "13fc972f",
   "metadata": {},
   "outputs": [],
   "source": [
    "# Create pandas DataFrame to store decision variable values\n",
    "x_values_df = pd.DataFrame(columns=['Chip', 'Facility', 'Value'])\n",
    "\n",
    "# Extract decision variable values and add them to DataFrame\n",
    "for i in chips:\n",
    "    for j in facilities:\n",
    "            x_values_df = x_values_df.append({'Chip': i, 'Facility': j, 'Value': x[i,j].x}, ignore_index=True)\n",
    "\n",
    "# Write DataFrame to CSV file\n",
    "x_values_df.to_excel('chip.xlsx', index=False)"
   ]
  }
 ],
 "metadata": {
  "kernelspec": {
   "display_name": "Python 3 (ipykernel)",
   "language": "python",
   "name": "python3"
  },
  "language_info": {
   "codemirror_mode": {
    "name": "ipython",
    "version": 3
   },
   "file_extension": ".py",
   "mimetype": "text/x-python",
   "name": "python",
   "nbconvert_exporter": "python",
   "pygments_lexer": "ipython3",
   "version": "3.10.9"
  }
 },
 "nbformat": 4,
 "nbformat_minor": 5
}
